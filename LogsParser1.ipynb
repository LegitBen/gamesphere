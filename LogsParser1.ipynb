{
  "nbformat": 4,
  "nbformat_minor": 0,
  "metadata": {
    "colab": {
      "provenance": [],
      "collapsed_sections": [],
      "authorship_tag": "ABX9TyO4nE+RwMH+PhpEHJwiAlPv",
      "include_colab_link": true
    },
    "kernelspec": {
      "name": "python3",
      "display_name": "Python 3"
    },
    "language_info": {
      "name": "python"
    }
  },
  "cells": [
    {
      "cell_type": "markdown",
      "metadata": {
        "id": "view-in-github",
        "colab_type": "text"
      },
      "source": [
        "<a href=\"https://colab.research.google.com/github/LegitBen/gamesphere/blob/main/LogsParser1.ipynb\" target=\"_parent\"><img src=\"https://colab.research.google.com/assets/colab-badge.svg\" alt=\"Open In Colab\"/></a>"
      ]
    },
    {
      "cell_type": "code",
      "source": [
        "import re"
      ],
      "metadata": {
        "id": "mCJUxngmIoTQ"
      },
      "execution_count": 1,
      "outputs": []
    },
    {
      "cell_type": "code",
      "source": [
        "regexp=r\"Error.*\""
      ],
      "metadata": {
        "id": "W_xqwuaQIuhX"
      },
      "execution_count": 14,
      "outputs": []
    },
    {
      "cell_type": "code",
      "execution_count": 15,
      "metadata": {
        "id": "AQg63RHL3HBB"
      },
      "outputs": [],
      "source": [
        "def reader(filename):\n",
        "  with open(filename) as f:\n",
        "    log=f.read()\n",
        "    ips_list=re.findall(regexp,log)\n",
        "  print(ips_list)"
      ]
    },
    {
      "cell_type": "code",
      "source": [
        "reader('log.log')"
      ],
      "metadata": {
        "colab": {
          "base_uri": "https://localhost:8080/"
        },
        "id": "SPShMTKuDR6I",
        "outputId": "7dc7a30b-a3e7-47ca-df9b-41f9a066c538"
      },
      "execution_count": 16,
      "outputs": [
        {
          "output_type": "stream",
          "name": "stdout",
          "text": [
            "['Error Summary (Unique only)', 'ErrorTestBase Gauntlet.UnrealTest.ErrorTestEnsure Gauntlet.UnrealTest.ErrorTestCheck Gauntlet.UnrealTest.ErrorTestFatal Gauntlet.UnrealTest.ErrorTestGPF Gauntlet.SelfTest.TestUnrealBuildParsing Gauntlet.SelfTest.TestAutoParam Gauntlet.SelfTest.TestParamParsing Gauntlet.SelfTest.Blank Gauntlet.SelfTest.CreateGif Gauntlet.SelfTest.OrderOfOpsTest Gauntlet.SelfTest.TestTargetDevice Gauntlet.SelfTest.TestUnrealLogParserBase Gauntlet.SelfTest.LogParserTestGauntletExitSuccess Gauntlet.SelfTest.LogParserTestEnsure Gauntlet.SelfTest.LogParserTestAssert Gauntlet.SelfTest.LogParserTestFatalError Gauntlet.SelfTest.LogParserTestException Gauntlet.SelfTest.LogParserTestRequestExit Gauntlet.SelfTest.LogParserTestChannels Gauntlet.SelfTest.LogParserTestWarnings Gauntlet.SelfTest.LogParserTestErrors Gauntlet.SelfTest.LogParserPerfSummary Gauntlet.SelfTest.TestOrionShortSoloGame Gauntlet.SelfTest.TestUnrealInstallAndRunBase Gauntlet.SelfTest.TestUnrealSession Gauntlet.SelfTest.TestUnrealOptions Gauntlet.SelfTest.TestUnrealBase Gauntlet.SelfTest.TestUnrealBuildSource Gauntlet.SelfTest.BaseTestNode Gauntlet.SelfTest.TestTargetDeviceMac Gauntlet.SelfTest.TestUnrealInstallThenRunMac Gauntlet.SelfTest.TestTargetDeviceWindows Gauntlet.Automation.Unreal.SampleTest', 'ErrorTestBase Gauntlet.UnrealTest.ErrorTestEnsure Gauntlet.UnrealTest.ErrorTestCheck Gauntlet.UnrealTest.ErrorTestFatal Gauntlet.UnrealTest.ErrorTestGPF Gauntlet.SelfTest.TestUnrealBuildParsing Gauntlet.SelfTest.TestAutoParam Gauntlet.SelfTest.TestParamParsing Gauntlet.SelfTest.Blank Gauntlet.SelfTest.CreateGif Gauntlet.SelfTest.OrderOfOpsTest Gauntlet.SelfTest.TestTargetDevice Gauntlet.SelfTest.TestUnrealLogParserBase Gauntlet.SelfTest.LogParserTestGauntletExitSuccess Gauntlet.SelfTest.LogParserTestEnsure Gauntlet.SelfTest.LogParserTestAssert Gauntlet.SelfTest.LogParserTestFatalError Gauntlet.SelfTest.LogParserTestException Gauntlet.SelfTest.LogParserTestRequestExit Gauntlet.SelfTest.LogParserTestChannels Gauntlet.SelfTest.LogParserTestWarnings Gauntlet.SelfTest.LogParserTestErrors Gauntlet.SelfTest.LogParserPerfSummary Gauntlet.SelfTest.TestOrionShortSoloGame Gauntlet.SelfTest.TestUnrealInstallAndRunBase Gauntlet.SelfTest.TestUnrealSession Gauntlet.SelfTest.TestUnrealOptions Gauntlet.SelfTest.TestUnrealBase Gauntlet.SelfTest.TestUnrealBuildSource Gauntlet.SelfTest.BaseTestNode Gauntlet.SelfTest.TestTargetDeviceMac Gauntlet.SelfTest.TestUnrealInstallThenRunMac Gauntlet.SelfTest.TestTargetDeviceWindows Gauntlet.Automation.Unreal.SampleTest', 'ErrorTestBase Gauntlet.UnrealTest.ErrorTestEnsure Gauntlet.UnrealTest.ErrorTestCheck Gauntlet.UnrealTest.ErrorTestFatal Gauntlet.UnrealTest.ErrorTestGPF Gauntlet.SelfTest.TestUnrealBuildParsing Gauntlet.SelfTest.TestAutoParam Gauntlet.SelfTest.TestParamParsing Gauntlet.SelfTest.Blank Gauntlet.SelfTest.CreateGif Gauntlet.SelfTest.OrderOfOpsTest Gauntlet.SelfTest.TestTargetDevice Gauntlet.SelfTest.TestUnrealLogParserBase Gauntlet.SelfTest.LogParserTestGauntletExitSuccess Gauntlet.SelfTest.LogParserTestEnsure Gauntlet.SelfTest.LogParserTestAssert Gauntlet.SelfTest.LogParserTestFatalError Gauntlet.SelfTest.LogParserTestException Gauntlet.SelfTest.LogParserTestRequestExit Gauntlet.SelfTest.LogParserTestChannels Gauntlet.SelfTest.LogParserTestWarnings Gauntlet.SelfTest.LogParserTestErrors Gauntlet.SelfTest.LogParserPerfSummary Gauntlet.SelfTest.TestOrionShortSoloGame Gauntlet.SelfTest.TestUnrealInstallAndRunBase Gauntlet.SelfTest.TestUnrealSession Gauntlet.SelfTest.TestUnrealOptions Gauntlet.SelfTest.TestUnrealBase Gauntlet.SelfTest.TestUnrealBuildSource Gauntlet.SelfTest.BaseTestNode Gauntlet.SelfTest.TestTargetDeviceMac Gauntlet.SelfTest.TestUnrealInstallThenRunMac Gauntlet.SelfTest.TestTargetDeviceWindows Gauntlet.Automation.Unreal.SampleTest', 'ErrorTestBase Gauntlet.UnrealTest.ErrorTestEnsure Gauntlet.UnrealTest.ErrorTestCheck Gauntlet.UnrealTest.ErrorTestFatal Gauntlet.UnrealTest.ErrorTestGPF Gauntlet.SelfTest.TestUnrealBuildParsing Gauntlet.SelfTest.TestAutoParam Gauntlet.SelfTest.TestParamParsing Gauntlet.SelfTest.Blank Gauntlet.SelfTest.CreateGif Gauntlet.SelfTest.OrderOfOpsTest Gauntlet.SelfTest.TestTargetDevice Gauntlet.SelfTest.TestUnrealLogParserBase Gauntlet.SelfTest.LogParserTestGauntletExitSuccess Gauntlet.SelfTest.LogParserTestEnsure Gauntlet.SelfTest.LogParserTestAssert Gauntlet.SelfTest.LogParserTestFatalError Gauntlet.SelfTest.LogParserTestException Gauntlet.SelfTest.LogParserTestRequestExit Gauntlet.SelfTest.LogParserTestChannels Gauntlet.SelfTest.LogParserTestWarnings Gauntlet.SelfTest.LogParserTestErrors Gauntlet.SelfTest.LogParserPerfSummary Gauntlet.SelfTest.TestOrionShortSoloGame Gauntlet.SelfTest.TestUnrealInstallAndRunBase Gauntlet.SelfTest.TestUnrealSession Gauntlet.SelfTest.TestUnrealOptions Gauntlet.SelfTest.TestUnrealBase Gauntlet.SelfTest.TestUnrealBuildSource Gauntlet.SelfTest.BaseTestNode Gauntlet.SelfTest.TestTargetDeviceMac Gauntlet.SelfTest.TestUnrealInstallThenRunMac Gauntlet.SelfTest.TestTargetDeviceWindows Gauntlet.Automation.Unreal.SampleTest', 'ErrorTestBase Gauntlet.UnrealTest.ErrorTestEnsure Gauntlet.UnrealTest.ErrorTestCheck Gauntlet.UnrealTest.ErrorTestFatal Gauntlet.UnrealTest.ErrorTestGPF Gauntlet.SelfTest.TestUnrealBuildParsing Gauntlet.SelfTest.TestAutoParam Gauntlet.SelfTest.TestParamParsing Gauntlet.SelfTest.Blank Gauntlet.SelfTest.CreateGif Gauntlet.SelfTest.OrderOfOpsTest Gauntlet.SelfTest.TestTargetDevice Gauntlet.SelfTest.TestUnrealLogParserBase Gauntlet.SelfTest.LogParserTestGauntletExitSuccess Gauntlet.SelfTest.LogParserTestEnsure Gauntlet.SelfTest.LogParserTestAssert Gauntlet.SelfTest.LogParserTestFatalError Gauntlet.SelfTest.LogParserTestException Gauntlet.SelfTest.LogParserTestRequestExit Gauntlet.SelfTest.LogParserTestChannels Gauntlet.SelfTest.LogParserTestWarnings Gauntlet.SelfTest.LogParserTestErrors Gauntlet.SelfTest.LogParserPerfSummary Gauntlet.SelfTest.TestOrionShortSoloGame Gauntlet.SelfTest.TestUnrealInstallAndRunBase Gauntlet.SelfTest.TestUnrealSession Gauntlet.SelfTest.TestUnrealOptions Gauntlet.SelfTest.TestUnrealBase Gauntlet.SelfTest.TestUnrealBuildSource Gauntlet.SelfTest.BaseTestNode Gauntlet.SelfTest.TestTargetDeviceMac Gauntlet.SelfTest.TestUnrealInstallThenRunMac Gauntlet.SelfTest.TestTargetDeviceWindows Gauntlet.Automation.Unreal.SampleTest', 'ErrorTestBase Gauntlet.UnrealTest.ErrorTestEnsure Gauntlet.UnrealTest.ErrorTestCheck Gauntlet.UnrealTest.ErrorTestFatal Gauntlet.UnrealTest.ErrorTestGPF Gauntlet.SelfTest.TestUnrealBuildParsing Gauntlet.SelfTest.TestAutoParam Gauntlet.SelfTest.TestParamParsing Gauntlet.SelfTest.Blank Gauntlet.SelfTest.CreateGif Gauntlet.SelfTest.OrderOfOpsTest Gauntlet.SelfTest.TestTargetDevice Gauntlet.SelfTest.TestUnrealLogParserBase Gauntlet.SelfTest.LogParserTestGauntletExitSuccess Gauntlet.SelfTest.LogParserTestEnsure Gauntlet.SelfTest.LogParserTestAssert Gauntlet.SelfTest.LogParserTestFatalError Gauntlet.SelfTest.LogParserTestException Gauntlet.SelfTest.LogParserTestRequestExit Gauntlet.SelfTest.LogParserTestChannels Gauntlet.SelfTest.LogParserTestWarnings Gauntlet.SelfTest.LogParserTestErrors Gauntlet.SelfTest.LogParserPerfSummary Gauntlet.SelfTest.TestOrionShortSoloGame Gauntlet.SelfTest.TestUnrealInstallAndRunBase Gauntlet.SelfTest.TestUnrealSession Gauntlet.SelfTest.TestUnrealOptions Gauntlet.SelfTest.TestUnrealBase Gauntlet.SelfTest.TestUnrealBuildSource Gauntlet.SelfTest.BaseTestNode Gauntlet.SelfTest.TestTargetDeviceMac Gauntlet.SelfTest.TestUnrealInstallThenRunMac Gauntlet.SelfTest.TestTargetDeviceWindows Gauntlet.Automation.Unreal.SampleTest', 'ErrorTestBase Gauntlet.UnrealTest.ErrorTestEnsure Gauntlet.UnrealTest.ErrorTestCheck Gauntlet.UnrealTest.ErrorTestFatal Gauntlet.UnrealTest.ErrorTestGPF Gauntlet.SelfTest.TestUnrealBuildParsing Gauntlet.SelfTest.TestAutoParam Gauntlet.SelfTest.TestParamParsing Gauntlet.SelfTest.Blank Gauntlet.SelfTest.CreateGif Gauntlet.SelfTest.OrderOfOpsTest Gauntlet.SelfTest.TestTargetDevice Gauntlet.SelfTest.TestUnrealLogParserBase Gauntlet.SelfTest.LogParserTestGauntletExitSuccess Gauntlet.SelfTest.LogParserTestEnsure Gauntlet.SelfTest.LogParserTestAssert Gauntlet.SelfTest.LogParserTestFatalError Gauntlet.SelfTest.LogParserTestException Gauntlet.SelfTest.LogParserTestRequestExit Gauntlet.SelfTest.LogParserTestChannels Gauntlet.SelfTest.LogParserTestWarnings Gauntlet.SelfTest.LogParserTestErrors Gauntlet.SelfTest.LogParserPerfSummary Gauntlet.SelfTest.TestOrionShortSoloGame Gauntlet.SelfTest.TestUnrealInstallAndRunBase Gauntlet.SelfTest.TestUnrealSession Gauntlet.SelfTest.TestUnrealOptions Gauntlet.SelfTest.TestUnrealBase Gauntlet.SelfTest.TestUnrealBuildSource Gauntlet.SelfTest.BaseTestNode Gauntlet.SelfTest.TestTargetDeviceMac Gauntlet.SelfTest.TestUnrealInstallThenRunMac Gauntlet.SelfTest.TestTargetDeviceWindows Gauntlet.Automation.Unreal.SampleTest', 'ErrorTestBase Gauntlet.UnrealTest.ErrorTestEnsure Gauntlet.UnrealTest.ErrorTestCheck Gauntlet.UnrealTest.ErrorTestFatal Gauntlet.UnrealTest.ErrorTestGPF Gauntlet.SelfTest.TestUnrealBuildParsing Gauntlet.SelfTest.TestAutoParam Gauntlet.SelfTest.TestParamParsing Gauntlet.SelfTest.Blank Gauntlet.SelfTest.CreateGif Gauntlet.SelfTest.OrderOfOpsTest Gauntlet.SelfTest.TestTargetDevice Gauntlet.SelfTest.TestUnrealLogParserBase Gauntlet.SelfTest.LogParserTestGauntletExitSuccess Gauntlet.SelfTest.LogParserTestEnsure Gauntlet.SelfTest.LogParserTestAssert Gauntlet.SelfTest.LogParserTestFatalError Gauntlet.SelfTest.LogParserTestException Gauntlet.SelfTest.LogParserTestRequestExit Gauntlet.SelfTest.LogParserTestChannels Gauntlet.SelfTest.LogParserTestWarnings Gauntlet.SelfTest.LogParserTestErrors Gauntlet.SelfTest.LogParserPerfSummary Gauntlet.SelfTest.TestOrionShortSoloGame Gauntlet.SelfTest.TestUnrealInstallAndRunBase Gauntlet.SelfTest.TestUnrealSession Gauntlet.SelfTest.TestUnrealOptions Gauntlet.SelfTest.TestUnrealBase Gauntlet.SelfTest.TestUnrealBuildSource Gauntlet.SelfTest.BaseTestNode Gauntlet.SelfTest.TestTargetDeviceMac Gauntlet.SelfTest.TestUnrealInstallThenRunMac Gauntlet.SelfTest.TestTargetDeviceWindows Gauntlet.Automation.Unreal.SampleTest', 'ErrorTestBase Gauntlet.UnrealTest.ErrorTestEnsure Gauntlet.UnrealTest.ErrorTestCheck Gauntlet.UnrealTest.ErrorTestFatal Gauntlet.UnrealTest.ErrorTestGPF Gauntlet.SelfTest.TestUnrealBuildParsing Gauntlet.SelfTest.TestAutoParam Gauntlet.SelfTest.TestParamParsing Gauntlet.SelfTest.Blank Gauntlet.SelfTest.CreateGif Gauntlet.SelfTest.OrderOfOpsTest Gauntlet.SelfTest.TestTargetDevice Gauntlet.SelfTest.TestUnrealLogParserBase Gauntlet.SelfTest.LogParserTestGauntletExitSuccess Gauntlet.SelfTest.LogParserTestEnsure Gauntlet.SelfTest.LogParserTestAssert Gauntlet.SelfTest.LogParserTestFatalError Gauntlet.SelfTest.LogParserTestException Gauntlet.SelfTest.LogParserTestRequestExit Gauntlet.SelfTest.LogParserTestChannels Gauntlet.SelfTest.LogParserTestWarnings Gauntlet.SelfTest.LogParserTestErrors Gauntlet.SelfTest.LogParserPerfSummary Gauntlet.SelfTest.TestOrionShortSoloGame Gauntlet.SelfTest.TestUnrealInstallAndRunBase Gauntlet.SelfTest.TestUnrealSession Gauntlet.SelfTest.TestUnrealOptions Gauntlet.SelfTest.TestUnrealBase Gauntlet.SelfTest.TestUnrealBuildSource Gauntlet.SelfTest.BaseTestNode Gauntlet.SelfTest.TestTargetDeviceMac Gauntlet.SelfTest.TestUnrealInstallThenRunMac Gauntlet.SelfTest.TestTargetDeviceWindows Gauntlet.Automation.Unreal.SampleTest', 'Error:', 'Error:', 'Error:', 'Error:', 'Error:', 'Error:', 'ErrorTestBase Gauntlet.UnrealTest.ErrorTestEnsure Gauntlet.UnrealTest.ErrorTestCheck Gauntlet.UnrealTest.ErrorTestFatal Gauntlet.UnrealTest.ErrorTestGPF Gauntlet.SelfTest.TestUnrealBuildParsing Gauntlet.SelfTest.TestAutoParam Gauntlet.SelfTest.TestParamParsing Gauntlet.SelfTest.Blank Gauntlet.SelfTest.CreateGif Gauntlet.SelfTest.OrderOfOpsTest Gauntlet.SelfTest.TestTargetDevice Gauntlet.SelfTest.TestUnrealLogParserBase Gauntlet.SelfTest.LogParserTestGauntletExitSuccess Gauntlet.SelfTest.LogParserTestEnsure Gauntlet.SelfTest.LogParserTestAssert Gauntlet.SelfTest.LogParserTestFatalError Gauntlet.SelfTest.LogParserTestException Gauntlet.SelfTest.LogParserTestRequestExit Gauntlet.SelfTest.LogParserTestChannels Gauntlet.SelfTest.LogParserTestWarnings Gauntlet.SelfTest.LogParserTestErrors Gauntlet.SelfTest.LogParserPerfSummary Gauntlet.SelfTest.TestOrionShortSoloGame Gauntlet.SelfTest.TestUnrealInstallAndRunBase Gauntlet.SelfTest.TestUnrealSession Gauntlet.SelfTest.TestUnrealOptions Gauntlet.SelfTest.TestUnrealBase Gauntlet.SelfTest.TestUnrealBuildSource Gauntlet.SelfTest.BaseTestNode Gauntlet.SelfTest.TestTargetDeviceMac Gauntlet.SelfTest.TestUnrealInstallThenRunMac Gauntlet.SelfTest.TestTargetDeviceWindows Gauntlet.Automation.Unreal.SampleTest', 'Error:', 'Error:', 'Error:', 'Error:', 'Error:', 'Error:', 'Error:', 'Error:', 'Error:', 'Error:', 'Error: Automation RunTests BP_TestTest', 'Error:', 'Error:', 'Error:', 'Error:', 'Error:', 'Error: Automation RunTests BP_TestTest', 'Error:', 'Error:', 'Error: Automation RunTests BP_TestTest', 'Error:', 'Error:', 'Error:', 'Error:', 'Error: Test Gauntlet.Automation.Unreal.SampleTest threw an exception during launch. Skipping test. Ex: Последовательность не содержит элементов', 'Error: Test Gauntlet.Automation.Unreal.SampleTest (Win64 Development Client) failed to start', 'Error: Gauntlet.Automation.Unreal.SampleTest (Win64 Development Client) result=Invalid', 'Error_TestFailure)', 'Error:', 'Error: Automation RunTests BP_TestTest', 'Error:', 'Error:', 'Error:', 'Error:', 'Error:', 'Error: Automation RunTests BP_TestTest', 'Error:', 'Error:', 'Error:', 'Error:', 'Error:', 'Error: Automation RunTests BP_TestTest', 'Error:', 'Error:', 'Error:', 'Error:', 'Errors: 0, Ensures: 1, Errors: 31, Warnings: 855', 'Errors: 0, Ensures: 1, Errors: 31, Warnings: 855, Hash: 7F30687649907788BEEDA4500AC8C562', 'Error:', 'Error: Automation RunTests BP_TestTest', 'Error:', 'Error:', 'Error:', 'Error:', 'Error: Test Gauntlet.Automation.Unreal.SampleTest threw an exception during launch. Skipping test. Ex: Последовательность не содержит элементов', 'Error: Test Gauntlet.Automation.Unreal.SampleTest (Win64 Development Client) failed to start', 'Error: Gauntlet.Automation.Unreal.SampleTest (Win64 Development Client) result=Invalid', 'Error_TestFailure)', 'Error:', 'Error: Automation RunTests BP_TestTest', 'Error:', 'Error:', 'Error:', 'Error:', 'Error:', 'Error: Automation RunTests BP_TestTest', 'Error:', 'Error:', 'Error:', 'Error:', 'Errors: 0, Ensures: 2, Errors: 53, Warnings: 161', 'Errors: 0, Ensures: 2, Errors: 53, Warnings: 161, Hash: DE8C21D156E0B759FF4A6A277AD76117', 'Error:', 'Error: Automation RunTests BP_TestTest', 'Error:', 'Error:', 'Error:', 'Error:']\n"
          ]
        }
      ]
    },
    {
      "cell_type": "code",
      "source": [],
      "metadata": {
        "id": "dMwDNdIEInyJ"
      },
      "execution_count": null,
      "outputs": []
    }
  ]
}